{
 "cells": [
  {
   "cell_type": "code",
   "execution_count": 1,
   "metadata": {},
   "outputs": [
    {
     "name": "stdout",
     "output_type": "stream",
     "text": [
      "Welcome to QTM 151!\n",
      "15\n"
     ]
    }
   ],
   "source": [
    "print(\"Welcome to QTM 151!\")\n",
    "\n",
    "x = 5\n",
    "y = 10\n",
    "z = x + y\n",
    "print(z)"
   ]
  },
  {
   "cell_type": "markdown",
   "metadata": {},
   "source": [
    "# Welcome to QTM 151!\n",
    "\n",
    "This is a Jupyter Notebook. You can write *text*, **equations**, and `code` in [this notebook](https://github.com/danilofreire/qtm151/blob/main/tutorials/testing-ipython.ipynb)."
   ]
  },
  {
   "cell_type": "markdown",
   "metadata": {},
   "source": [
    "### Using `pandas.DataFrame.to_markdown()`"
   ]
  },
  {
   "cell_type": "code",
   "execution_count": 2,
   "metadata": {},
   "outputs": [
    {
     "name": "stdout",
     "output_type": "stream",
     "text": [
      "| Name    |   Age | City     |\n",
      "|:--------|------:|:---------|\n",
      "| Alice   |    25 | New York |\n",
      "| Bob     |    30 | London   |\n",
      "| Charlie |    35 | Paris    |\n"
     ]
    }
   ],
   "source": [
    "# If necessary, install pandas and tabulate\n",
    "# You should have the pandas library installed if you installed Anaconda, \n",
    "# but if you do not, you can install both with the following terminal command:\n",
    "# conda install pandas tabulate\n",
    "\n",
    "# Import pandas\n",
    "import pandas as pd\n",
    "from tabulate import tabulate\n",
    "\n",
    "# Create a sample DataFrame\n",
    "data = {\n",
    "    \"Name\": [\"Alice\", \"Bob\", \"Charlie\"],\n",
    "    \"Age\": [25, 30, 35],\n",
    "    \"City\": [\"New York\", \"London\", \"Paris\"]\n",
    "}\n",
    "df = pd.DataFrame(data)\n",
    "\n",
    "# Print the DataFrame as Markdown, no index (row numbers)\n",
    "markdown_table = df.to_markdown(index=False)\n",
    "print(markdown_table)"
   ]
  },
  {
   "cell_type": "code",
   "execution_count": 3,
   "metadata": {},
   "outputs": [
    {
     "data": {
      "text/markdown": [
       "| Name    |   Age | City     |\n",
       "|:--------|------:|:---------|\n",
       "| Alice   |    25 | New York |\n",
       "| Bob     |    30 | London   |\n",
       "| Charlie |    35 | Paris    |"
      ],
      "text/plain": [
       "<IPython.core.display.Markdown object>"
      ]
     },
     "metadata": {},
     "output_type": "display_data"
    }
   ],
   "source": [
    "# You should also have the IPython package installed if you installed Anaconda\n",
    "# If not, you can install it with\n",
    "# conda install ipython\n",
    "\n",
    "# Import the Markdown display class. \n",
    "# This is what allows us to display Markdown in Jupyter Notebooks \n",
    "from IPython.display import display, Markdown\n",
    "\n",
    "# Display the Markdown table\n",
    "display(Markdown(markdown_table))"
   ]
  },
  {
   "cell_type": "code",
   "execution_count": 4,
   "metadata": {},
   "outputs": [
    {
     "data": {
      "text/markdown": [
       "| Name    |  Age (Years)  |     City |\n",
       "|:--------|:-------------:|---------:|\n",
       "| Alice   |      25       | New York |\n",
       "| Bob     |      30       |   London |\n",
       "| Charlie |      35       |    Paris |"
      ],
      "text/plain": [
       "<IPython.core.display.Markdown object>"
      ]
     },
     "metadata": {},
     "output_type": "display_data"
    }
   ],
   "source": [
    "# Customising the Markdown table using the to_markdown() method\n",
    "markdown_table = df.to_markdown(\n",
    "    index=False,  # Don't include index\n",
    "    tablefmt=\"pipe\",  # Use pipe format\n",
    "    floatfmt=\".2f\",  # Format floats to 2 decimal places\n",
    "    headers=[\"Name\", \"Age (Years)\", \"City\"],  # Custom headers\n",
    "    colalign=(\"left\", \"center\", \"right\")  # Align columns\n",
    ")\n",
    "display(Markdown(markdown_table))"
   ]
  },
  {
   "cell_type": "code",
   "execution_count": 5,
   "metadata": {},
   "outputs": [
    {
     "data": {
      "text/markdown": [
       "### Product Inventory Summary"
      ],
      "text/plain": [
       "<IPython.core.display.Markdown object>"
      ]
     },
     "metadata": {},
     "output_type": "display_data"
    },
    {
     "data": {
      "text/markdown": [
       "| Product Name   |   Price ($) |   Stock Quantity |   Customer Rating |\n",
       "|:---------------|------------:|-----------------:|------------------:|\n",
       "| Laptop         |      999.99 |               50 |               4.5 |\n",
       "| Smartphone     |      599.50 |              100 |               4.8 |\n",
       "| Tablet         |      299.75 |               75 |               4.2 |"
      ],
      "text/plain": [
       "<IPython.core.display.Markdown object>"
      ]
     },
     "metadata": {},
     "output_type": "display_data"
    }
   ],
   "source": [
    "# Using the tabulate library to create a Markdown table\n",
    "import pandas as pd\n",
    "from IPython.display import display, Markdown\n",
    "from tabulate import tabulate\n",
    "\n",
    "# Create a sample DataFrame\n",
    "data = {\n",
    "    \"Product\": [\"Laptop\", \"Smartphone\", \"Tablet\"],\n",
    "    \"Price\": [999.99, 599.50, 299.75],\n",
    "    \"Stock\": [50, 100, 75],\n",
    "    \"Rating\": [4.5, 4.8, 4.2]\n",
    "}\n",
    "df = pd.DataFrame(data)\n",
    "\n",
    "# Create a formatted Markdown table\n",
    "# The floatfmt parameter formats columns as floats with 2 decimal places,\n",
    "# integers, and floats with 1 decimal place, respectively\n",
    "markdown_table = tabulate(\n",
    "    df,\n",
    "    headers=[\"Product Name\", \"Price ($)\", \"Stock Quantity\", \"Customer Rating\"],\n",
    "    tablefmt=\"pipe\", # Format as Markdown table\n",
    "    floatfmt=(\".2f\", \".2f\", \"d\", \".1f\"),\n",
    "    showindex=False, # Don't show the index (row numbers)\n",
    "    numalign=\"right\", # Align numbers to the right\n",
    "    stralign=\"left\" # Align strings (text, first column) to the left\n",
    ")\n",
    "\n",
    "# Display the table in the notebook\n",
    "display(Markdown(\"### Product Inventory Summary\"))\n",
    "display(Markdown(markdown_table))"
   ]
  },
  {
   "cell_type": "markdown",
   "metadata": {},
   "source": [
    "### Equations"
   ]
  },
  {
   "cell_type": "markdown",
   "metadata": {},
   "source": [
    "$$\\sigma =\\sqrt{\\frac{\\sum{i=1}ˆ{N}(xi -\\mu)ˆ2}{N}}$$\n",
    "\n",
    "(Check https://www.overleaf.com/learn/latex/List_of_Greek_letters_and_math_symbols)"
   ]
  },
  {
   "cell_type": "markdown",
   "metadata": {},
   "source": [
    "# Example of Footnotes in Jupyter Notebook\n",
    "\n",
    "You can include footnotes in your Jupyter Notebook using Markdown syntax. For example, this is a sentence with a footnote.[^fn]\n",
    "\n",
    "Here is another sentence with a different footnote.[^2]\n",
    "\n",
    "[^fn]: This is the first footnote.\n",
    "[^2]: This is the second footnote."
   ]
  }
 ],
 "metadata": {
  "kernelspec": {
   "display_name": "base",
   "language": "python",
   "name": "python3"
  },
  "language_info": {
   "codemirror_mode": {
    "name": "ipython",
    "version": 3
   },
   "file_extension": ".py",
   "mimetype": "text/x-python",
   "name": "python",
   "nbconvert_exporter": "python",
   "pygments_lexer": "ipython3",
   "version": "3.12.4"
  }
 },
 "nbformat": 4,
 "nbformat_minor": 2
}
