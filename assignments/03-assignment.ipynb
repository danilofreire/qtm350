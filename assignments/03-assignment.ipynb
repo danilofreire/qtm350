{
 "cells": [
  {
   "cell_type": "markdown",
   "metadata": {},
   "source": [
    "# QTM 350 - Data Science Computing\n",
    "\n",
    "## Assignment 03: Git\n",
    "### Due 24 September 2025\n",
    "\n",
    "In this assignment, you will practice some of the git commands covered in the last two lectures. You will complete a series of tasks and submit your work either as a Jupyter Notebook or a PDF document with screenshots. Please provide the commands you used for each step.\n",
    "\n",
    "### Instructions\n",
    "\n",
    "1. Create a new folder named `data_project` on your local machine. Initialise it as a git repository and verify its status. \n",
    "\n",
    "2. Inside the `data_project` directory, create three Python files: `data_cleaning.py`, `data_analysis.py`, and `visualisation.py`. Add all these files to the staging area. \n",
    "\n",
    "3. Commit the added Python files with the message \"Initial commit with data processing scripts\". \n",
    "\n",
    "4. Display the commit history of your repository.\n",
    "\n",
    "5. Add a new function `clean_data()` in `data_cleaning.py`. After modifying the file, stage and commit the changes with the message \"Add clean_data function to data_cleaning.py\".\n",
    "\n",
    "6. Create a new branch named `feature-exploration` and switch to it. \n",
    "   \n",
    "7. On the `feature-exploration` branch, add a new file `exploratory_analysis.py` and commit it with the message \"Add exploratory_analysis.py for initial data exploration\"\n",
    "\n",
    "8. Switch back to the `main` (or `master`) branch from `feature-exploration`.\n",
    "\n",
    "9. Merge the `feature-exploration` branch into the `main` (or `master`) branch.\n",
    "\n",
    "10. Commit the merge and list all the branches in your repository."
   ]
  }
 ],
 "metadata": {
  "language_info": {
   "name": "python"
  }
 },
 "nbformat": 4,
 "nbformat_minor": 2
}
