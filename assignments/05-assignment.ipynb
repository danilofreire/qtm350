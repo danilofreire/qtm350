{
 "cells": [
  {
   "cell_type": "markdown",
   "metadata": {},
   "source": [
    "## QTM 350: Data Science Computing\n",
    "\n",
    "### Assignment 05 - Literate Programming with Quarto \n",
    "\n",
    "### Due 8 October 2025"
   ]
  },
  {
   "cell_type": "markdown",
   "metadata": {},
   "source": [
    "### Instructions\n",
    "\n",
    "In this assignment, you will demonstrate your proficiency with Quarto by creating data science reports and presentations. You will analyse a sample of the [World Development Indicators dataset](https://databank.worldbank.org/source/world-development-indicators), focusing on one year (2022) and 14 variables. Your task involves performing data analysis, generating visualisations, and producing reproducible documents in multiple formats.\n",
    "\n",
    "Please write a `README.md` file that includes the URL of the repository you create, along with the URLs of the HTML report and slides published on GitHub Pages or GitHack (not the raw files in your repository). The resulting PDF should be stored in the repository, as should all the `.qmd` files.\n",
    "\n",
    "### Data\n",
    "\n",
    "The sample dataset is provided in the file `wdi.csv`. The dataset is available in [our GitHub repository](https://github.com/danilofreire/qtm350/tree/main/assignments/wdi.csv). You can also create the dataset by running the Python code below."
   ]
  },
  {
   "cell_type": "code",
   "execution_count": 1,
   "metadata": {},
   "outputs": [],
   "source": [
    "# Install the necessary libraries\n",
    "# pip install pandas\n",
    "# pip install wbgapi\n",
    "\n",
    "# Import the libraries\n",
    "import pandas as pd\n",
    "import wbgapi as wb"
   ]
  },
  {
   "cell_type": "code",
   "execution_count": 2,
   "metadata": {},
   "outputs": [
    {
     "name": "stdout",
     "output_type": "stream",
     "text": [
      "(217, 14)\n",
      "       country  inflation_rate  exports_gdp_share  gdp_growth_rate  \\\n",
      "0  Afghanistan             NaN          18.380042        -6.240172   \n",
      "1      Albania        6.725203          37.395422         4.856402   \n",
      "2      Algeria        9.265516          31.446856         3.600000   \n",
      "\n",
      "   gdp_per_capita  adult_literacy_rate  primary_school_enrolment_rate  \\\n",
      "0      352.603733                  NaN                            NaN   \n",
      "1     6810.114041                 98.5                      95.606712   \n",
      "2     5023.252932                  NaN                     108.343933   \n",
      "\n",
      "   education_expenditure_gdp_share  measles_immunisation_rate  \\\n",
      "0                              NaN                       68.0   \n",
      "1                          2.74931                       86.0   \n",
      "2                              NaN                       79.0   \n",
      "\n",
      "   health_expenditure_gdp_share  income_inequality  unemployment_rate  \\\n",
      "0                           NaN                NaN             14.100   \n",
      "1                           NaN                NaN             11.588   \n",
      "2                           NaN                NaN             12.437   \n",
      "\n",
      "   life_expectancy  total_population  \n",
      "0           62.879        41128771.0  \n",
      "1           76.833         2777689.0  \n",
      "2           77.129        44903225.0  \n"
     ]
    }
   ],
   "source": [
    "# Define the indicators to download\n",
    "indicators = {\n",
    "    'gdp_per_capita': 'NY.GDP.PCAP.CD',\n",
    "    'gdp_growth_rate': 'NY.GDP.MKTP.KD.ZG',\n",
    "    'inflation_rate': 'FP.CPI.TOTL.ZG',\n",
    "    'unemployment_rate': 'SL.UEM.TOTL.ZS',\n",
    "    'total_population': 'SP.POP.TOTL',\n",
    "    'life_expectancy': 'SP.DYN.LE00.IN',\n",
    "    'adult_literacy_rate': 'SE.ADT.LITR.ZS',\n",
    "    'income_inequality': 'SI.POV.GINI',\n",
    "    'health_expenditure_gdp_share': 'SH.XPD.CHEX.GD.ZS',\n",
    "    'measles_immunisation_rate': 'SH.IMM.MEAS',\n",
    "    'education_expenditure_gdp_share': 'SE.XPD.TOTL.GD.ZS',\n",
    "    'primary_school_enrolment_rate': 'SE.PRM.ENRR',\n",
    "    'exports_gdp_share': 'NE.EXP.GNFS.ZS'\n",
    "}\n",
    "\n",
    "# Get the list of country codes for the \"World\" region\n",
    "country_codes = wb.region.members('WLD')\n",
    "\n",
    "# Download data for countries only in 2022\n",
    "df = wb.data.DataFrame(indicators.values(), economy=country_codes, time=2022, skipBlanks=True, labels=True).reset_index()\n",
    "\n",
    "# Delete the 'economy' column\n",
    "df = df.drop(columns=['economy'], errors='ignore')\n",
    "\n",
    "# Create a reversed dictionary mapping indicator codes to names\n",
    "# Rename the columns and convert all names to lowercase\n",
    "df.rename(columns=lambda x: {v: k for k, v in indicators.items()}.get(x, x).lower(), inplace=True)\n",
    "\n",
    "# Sort 'country' in ascending order\n",
    "df = df.sort_values('country', ascending=True)\n",
    "\n",
    "# Reset the index after sorting\n",
    "df = df.reset_index(drop=True)\n",
    "\n",
    "# Display the number of rows and columns\n",
    "print(df.shape)\n",
    "\n",
    "# Display the first few rows of the data\n",
    "print(df.head(3))\n",
    "\n",
    "# Save the data to a CSV file\n",
    "df.to_csv('wdi.csv', index=False)\n"
   ]
  },
  {
   "cell_type": "markdown",
   "metadata": {},
   "source": [
    "### Tasks\n",
    "\n",
    "1. Please initialise a new `.qmd` file with an appropriate `YAML` header. Include metadata such as `title`, `author`, `date`, and specify the output format as `HTML` and `PDF`.\n",
    "   \n",
    "2. Load the dataset using your preferred programming language (R or Python). \n",
    "   \n",
    "3. Conduct exploratory data analysis on at least three indicators of your choice. Summarise your findings in markdown sections. Show your code and results.\n",
    "   \n",
    "4. Create at least two different types of plots (e.g., bar chart, scatter plot) to represent your analysis. Use Quarto code chunks to embed these visualisations. Add a title and axis labels to each plot. Use Quarto to include a caption and a reference to the source of the data. Hide your code in the final document.\n",
    "   \n",
    "5. Construct a table that highlights some key statistics from your analysis. Ensure the table is well-formatted and included in the report.\n",
    "   \n",
    "6. Include cross-references to your figures and tables within the text. Demonstrate proper labeling and referencing techniques.\n",
    "   \n",
    "7. Add a bibliography using BibTeX (`.bib`). Cite at least two sources related to your analysis.\n",
    "   \n",
    "8.  Create a new `.qmd` file configured for `revealjs` output. Include a title slide, a few content slides, and a concluding slide. \n",
    "   \n",
    "9.  Incorporate your analysis and visualisations from the report into the presentation.\n",
    "    \n",
    "10. Customise the presentation theme and incorporate at least one transition effect between slides.\n",
    "    \n",
    "11. Render your report and presentation to HTML, PDF, and Revealjs (HTML) formats. \n",
    "    \n",
    "12. Use Git to manage your project and create a repository on GitHub. Submit the link to your repository on Canvas.\n",
    "    \n",
    "13. Set up GitHub Pages (preferably) or use GitHack to host your HTML report and presentation. Add the links of the published pages to your `README.md` file. Do not forget to include the PDF report and the `.qmd` files in your repository.\n",
    "\n",
    "### Bonus Questions\n",
    "\n",
    "14. Develop an interactive dashboard within your report using Quarto's dashboard features. Incorporate dynamic filters or widgets.\n",
    "    \n",
    "15. Configure automated rendering of your report using Quarto's command-line interface, possibly integrating with GitHub Actions for continuous integration."
   ]
  }
 ],
 "metadata": {
  "kernelspec": {
   "display_name": "base",
   "language": "python",
   "name": "python3"
  },
  "language_info": {
   "codemirror_mode": {
    "name": "ipython",
    "version": 3
   },
   "file_extension": ".py",
   "mimetype": "text/x-python",
   "name": "python",
   "nbconvert_exporter": "python",
   "pygments_lexer": "ipython3",
   "version": "3.12.2"
  }
 },
 "nbformat": 4,
 "nbformat_minor": 2
}
