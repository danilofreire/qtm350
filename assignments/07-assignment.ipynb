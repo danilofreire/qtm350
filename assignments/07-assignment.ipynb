{
 "cells": [
  {
   "cell_type": "markdown",
   "metadata": {},
   "source": [
    "## QTM 350: Data Science Computing\n",
    "\n",
    "### Assignment 07 - AI-Assisted Computing, Local LLMs, and Cloud Computing\n",
    "\n",
    "### Due 22 October 2025"
   ]
  },
  {
   "cell_type": "markdown",
   "metadata": {},
   "source": [
    "### Instructions\n",
    "\n",
    "The following questions are designed to assess your understanding of the material covered in previous lectures. You may use any available resources to complete this assignment. For conceptual questions, please ensure your responses are at least two paragraphs in length.\n",
    "\n",
    "As always, should you have any questions, please let me know.\n",
    "\n",
    "### Tasks\n",
    "\n",
    "1. How might resource constraints (like RAM, CPU/GPU availability) impact the performance and usability of locally deployed LLMs? \n",
    "\n",
    "2. What ethical responsibilities do developers have when deploying and customizing local LLMs? \n",
    "\n",
    "3. Discuss the potential benefits and limitations of using AI-assisted tools like Roo Code for data analysis tasks, and what aspects of this process feels different from conventional coding projects.\n",
    "\n",
    "4. How does virtualisation contribute to the efficiency of cloud computing?\n",
    "\n",
    "5. Explore and briefly test at least two additional AWS services, provide screenshots and brief description of its uses and limitations.\n",
    "\n",
    "6. Use Amazon S3 to create a bucket, upload data, and configure appropriate storage policies.\n",
    "\n",
    "7. Launch an EC2 instance specifically configured for running Jupyter notebooks.\n",
    "\n",
    "8. Set up port forwarding to access the Jupyter notebook from your local machine. Explain what port forwarding is, what every part of the command does, and how it works.\n",
    "\n",
    "9. Generate a simple dataset (not the one used in class), upload it to the EC2 instance, and perform basic exploratory data analysis.\n",
    "\n",
    "10. Generate visualisations and download the results to your local machine.  "
   ]
  }
 ],
 "metadata": {
  "kernelspec": {
   "display_name": "base",
   "language": "python",
   "name": "python3"
  },
  "language_info": {
   "codemirror_mode": {
    "name": "ipython",
    "version": 3
   },
   "file_extension": ".py",
   "mimetype": "text/x-python",
   "name": "python",
   "nbconvert_exporter": "python",
   "pygments_lexer": "ipython3",
   "version": "3.12.2"
  }
 },
 "nbformat": 4,
 "nbformat_minor": 2
}
