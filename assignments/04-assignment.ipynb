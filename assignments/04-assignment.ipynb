{
 "cells": [
  {
   "cell_type": "markdown",
   "metadata": {},
   "source": [
    "# QTM 350 - Data Science Computing\n",
    "\n",
    "## Assignment 04: Advanced Git\n",
    "### Due 1 October 2025\n",
    "\n",
    "In this assignment, you will explore Git in more depth, focusing on commands we have not covered in class. You should research how to solve each task using specific Git commands. Feel free to use any tools you prefer to complete the assignment. Explain each command in simple terms. Of course, you are welcome to test them as well! If you have any questions, please let me know.\n",
    "\n",
    "### Questions\n",
    "\n",
    "1. What command would you use to display all the commits that have not yet been pushed to the remote repository?\n",
    "   \n",
    "2. Explain the purpose of the `git tag` command.\n",
    "   \n",
    "3. How do you remove a file from the repository history?\n",
    "   \n",
    "4. How do you temporarily save your changes without committing them?\n",
    "   \n",
    "5. How do you amend the most recent commit message?\n",
    "   \n",
    "6. How can you split a commit into multiple commits?\n",
    "   \n",
    "7. How do you display the changes between two branches?\n",
    "   \n",
    "8. What command would you use to see which remote repository a local repository is connected to?\n",
    "   \n",
    "9.  Explain the difference between `git merge` and `git rebase`.\n",
    "    \n",
    "10. How can you search for a specific commit message?"
   ]
  }
 ],
 "metadata": {
  "language_info": {
   "name": "python"
  }
 },
 "nbformat": 4,
 "nbformat_minor": 2
}
