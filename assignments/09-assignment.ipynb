{
 "cells": [
  {
   "cell_type": "markdown",
   "metadata": {},
   "source": [
    "# Assignment 09: Join and Merge in SQL (SQLite Version)\n",
    "\n",
    "## Due 12 November 2025\n",
    "\n",
    "### Introduction\n",
    "\n",
    "For this assignment, you will continue working with SQL databases using SQLite. You should use Python to write the SQL queries. If possible, please submit your answers in PDF format. The data and questions are listed below."
   ]
  },
  {
   "cell_type": "code",
   "execution_count": null,
   "metadata": {},
   "outputs": [],
   "source": [
    "import sqlite3\n",
    "import pandas as pd\n",
    "\n",
    "# Create in-memory database\n",
    "conn = sqlite3.connect(':memory:')\n",
    "\n",
    "# Create tables\n",
    "conn.execute('''\n",
    "CREATE TABLE directors (\n",
    "    director_id INTEGER PRIMARY KEY AUTOINCREMENT,\n",
    "    director_name TEXT,\n",
    "    country TEXT,\n",
    "    birth_year INTEGER,\n",
    "    awards INTEGER\n",
    ")''')\n",
    "\n",
    "conn.execute('''\n",
    "CREATE TABLE movies (\n",
    "    movie_id INTEGER PRIMARY KEY AUTOINCREMENT,\n",
    "    title TEXT,\n",
    "    director_id INTEGER,\n",
    "    release_year INTEGER,\n",
    "    box_office REAL,\n",
    "    rating REAL,\n",
    "    FOREIGN KEY (director_id) REFERENCES directors(director_id)\n",
    ")''')\n",
    "\n",
    "# Insert data\n",
    "directors_data = [\n",
    "    ('Christopher Nolan', 'UK', 1970, 5),\n",
    "    ('Greta Gerwig', 'USA', 1983, 3),\n",
    "    ('Bong Joon-ho', 'South Korea', 1969, 4),\n",
    "    ('Sofia Coppola', 'USA', 1971, 2),\n",
    "    ('Pedro Almodóvar', 'Spain', 1949, 6),\n",
    "    ('Agnès Varda', 'France', 1928, 4)\n",
    "]\n",
    "conn.executemany('INSERT INTO directors (director_name, country, birth_year, awards) VALUES (?,?,?,?)', directors_data)\n",
    "\n",
    "movies_data = [\n",
    "    ('Oppenheimer', 1, 2023, 950000000.00, 8.5),\n",
    "    ('Barbie', 2, 2023, 1440000000.00, 7.0),\n",
    "    ('Parasite', 3, 2019, 258773645.00, 8.9),\n",
    "    ('Lost in Translation', 4, 2003, 119723856.00, 7.7),\n",
    "    ('Pain and Glory', 5, 2019, 38219573.00, 7.5),\n",
    "    ('Faces Places', 6, 2017, 903996.00, 7.9),\n",
    "    ('Inception', 1, 2010, 836836967.00, 8.8),\n",
    "    ('Lady Bird', 2, 2017, 78965367.00, 7.4)\n",
    "]\n",
    "conn.executemany('''\n",
    "    INSERT INTO movies (title, director_id, release_year, box_office, rating)\n",
    "    VALUES (?,?,?,?,?)''', movies_data)\n",
    "conn.commit()"
   ]
  },
  {
   "cell_type": "markdown",
   "metadata": {},
   "source": [
    "1. Write a query using `INNER JOIN` to display the movie title, director name, and box office earnings for all movies, ordered by box office earnings in descending order"
   ]
  },
  {
   "cell_type": "code",
   "execution_count": null,
   "metadata": {},
   "outputs": [],
   "source": [
    "# Write your anwer here"
   ]
  },
  {
   "cell_type": "markdown",
   "metadata": {},
   "source": [
    "2. Using a `LEFT JOIN`, find all directors and count the number of movies they have directed."
   ]
  },
  {
   "cell_type": "code",
   "execution_count": null,
   "metadata": {},
   "outputs": [],
   "source": [
    "# Write your answer here"
   ]
  },
  {
   "cell_type": "markdown",
   "metadata": {},
   "source": [
    "3. Write a `SELF JOIN` query to compare the ratings of movies by the same director. Show only pairs where the second movie has a higher rating than the first."
   ]
  },
  {
   "cell_type": "code",
   "execution_count": null,
   "metadata": {},
   "outputs": [],
   "source": [
    "# Write your answer here"
   ]
  },
  {
   "cell_type": "markdown",
   "metadata": {},
   "source": [
    "4. Using appropriate joins, find directors who have made movies with above-average box office earnings (compared to all movies in the database)."
   ]
  },
  {
   "cell_type": "code",
   "execution_count": null,
   "metadata": {},
   "outputs": [],
   "source": [
    "# Write your answer here"
   ]
  },
  {
   "cell_type": "markdown",
   "metadata": {},
   "source": [
    "5. Create a query using `CROSS JOIN` to show all possible combinations of directors and movies, even if they did not direct them. Limit the output to 10 rows."
   ]
  },
  {
   "cell_type": "code",
   "execution_count": null,
   "metadata": {},
   "outputs": [],
   "source": [
    "# Write your answer here"
   ]
  },
  {
   "cell_type": "markdown",
   "metadata": {},
   "source": [
    "6. Write a query that uses `UNION` to create a list of all director names and movie titles in a single column. Label the column `name` and include a column (called `type`) indicating if it is a director or movie. Order the results by type and name."
   ]
  },
  {
   "cell_type": "code",
   "execution_count": null,
   "metadata": {},
   "outputs": [],
   "source": [
    "# Write your answer here"
   ]
  },
  {
   "cell_type": "markdown",
   "metadata": {},
   "source": [
    "7. Using appropriate joins, find the director with the highest average movie rating. Show only the row with the director's name, average rating, and number of movies."
   ]
  },
  {
   "cell_type": "code",
   "execution_count": null,
   "metadata": {},
   "outputs": [],
   "source": [
    "# Write your answer here"
   ]
  },
  {
   "cell_type": "markdown",
   "metadata": {},
   "source": [
    "8. Create a query using `LEFT JOIN` and `IS NULL` to find whether there are directors who have not directed any movies."
   ]
  },
  {
   "cell_type": "code",
   "execution_count": null,
   "metadata": {},
   "outputs": [],
   "source": [
    "# Write your answer here"
   ]
  },
  {
   "cell_type": "markdown",
   "metadata": {},
   "source": [
    "9. Using appropriate joins, find pairs of movies released in the same year, along with their directors' names. Please do not match a movie with itself."
   ]
  },
  {
   "cell_type": "code",
   "execution_count": null,
   "metadata": {},
   "outputs": [],
   "source": [
    "# Write your answer here"
   ]
  },
  {
   "cell_type": "markdown",
   "metadata": {},
   "source": [
    "10. Show the age of each director when they released their movies. Create a column entitled `age_at_release` in your output. Order the results by the director's name and the movie's release year."
   ]
  },
  {
   "cell_type": "code",
   "execution_count": null,
   "metadata": {},
   "outputs": [],
   "source": [
    "# Write your answer here"
   ]
  },
  {
   "cell_type": "markdown",
   "metadata": {},
   "source": [
    "Good luck! 😃"
   ]
  }
 ],
 "metadata": {
  "kernelspec": {
   "display_name": "base",
   "language": "python",
   "name": "python3"
  },
  "language_info": {
   "codemirror_mode": {
    "name": "ipython",
    "version": 3
   },
   "file_extension": ".py",
   "mimetype": "text/x-python",
   "name": "python",
   "nbconvert_exporter": "python",
   "pygments_lexer": "ipython3",
   "version": "3.12.2"
  }
 },
 "nbformat": 4,
 "nbformat_minor": 4
}
