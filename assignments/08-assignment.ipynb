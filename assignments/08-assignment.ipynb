{
 "cells": [
  {
   "cell_type": "markdown",
   "metadata": {},
   "source": [
    "## QTM 350: Data Science Computing\n",
    "\n",
    "### Assignment 08: SQL Practice with Python\n",
    "\n",
    "### Due 12 November 2025\n",
    "\n",
    "### Instructions:\n",
    "Use Python's `sqlite3` library to complete the following tasks. Connect to an in-memory SQLite database or create a file named `assignment08.db`.\n",
    "\n",
    "Ensure all your Python code and the query results (where applicable) are included in this notebook. Submit this `.ipynb` file on Canvas.\n",
    "\n",
    "Begin by running the setup code cell to create and populate the `drivers` table."
   ]
  },
  {
   "cell_type": "markdown",
   "metadata": {},
   "source": [
    "### Setup: Create and Populate Database"
   ]
  },
  {
   "cell_type": "code",
   "execution_count": null,
   "metadata": {},
   "outputs": [],
   "source": [
    "import sqlite3\n",
    "import pandas as pd # Often useful for displaying results\n",
    "\n",
    "# Connect to the database (or create it)\n",
    "conn = sqlite3.connect('assignment08.db') \n",
    "# conn = sqlite3.connect(':memory:') # Option for in-memory database\n",
    "cursor = conn.cursor()\n",
    "print(\"Database connected.\")\n",
    "\n",
    "# --- Create drivers Table ---\n",
    "cursor.execute(\"DROP TABLE IF EXISTS drivers;\")\n",
    "create_table_sql = \"\"\"\n",
    "CREATE TABLE drivers(\n",
    "    driver_id INT PRIMARY KEY,\n",
    "    driver_name VARCHAR(30),\n",
    "    nationality VARCHAR(15),\n",
    "    team VARCHAR(30),\n",
    "    victories INT,\n",
    "    podiums INT,\n",
    "    poles INT,\n",
    "    points FLOAT\n",
    ");\n",
    "\"\"\"\n",
    "cursor.execute(create_table_sql)\n",
    "print(\"Table 'drivers' created.\")\n",
    "\n",
    "# --- Insert Data ---\n",
    "drivers_data = [\n",
    "    (1, 'Lewis Hamilton', 'British', 'Mercedes', 103, 182, 103, 4160.5),\n",
    "    (2, 'Michael Schumacher', 'German', 'Ferrari', 91, 155, 68, 1566.0),\n",
    "    (3, 'Ayrton Senna', 'Brazilian', 'McLaren', 41, 80, 65, 614.0),\n",
    "    (4, 'Sebastian Vettel', 'German', 'Red Bull', 53, 122, 57, 3097.0),\n",
    "    (5, 'Niki Lauda', 'Austrian', 'Ferrari', 25, 54, 24, 420.5),\n",
    "    (6, 'Fernando Alonso', 'Spanish', 'Renault', 32, 101, 22, 2061.0),\n",
    "    (7, 'Alain Prost', 'French', 'McLaren', 51, 106, 33, 798.5),\n",
    "    (8, 'Charles Leclerc', 'Monegasque', 'Ferrari', 5, 21, 18, 699.0),\n",
    "    (9, 'Max Verstappen', 'Dutch', 'Red Bull', 52, 92, 28, 2411.0),\n",
    "    (10, 'Jenson Button', 'British', 'Brawn GP', 15, 50, 8, 1235.0),\n",
    "    (11, 'Kimi Raikkonen', 'Finnish', 'Ferrari', 21, 103, 18, 1873.0),\n",
    "    (12, 'Daniel Ricciardo', 'Australian', 'Red Bull', 8, 32, 3, 1274.0),\n",
    "    (13, 'Valtteri Bottas', 'Finnish', 'Mercedes', 10, 67, 20, 1731.0),\n",
    "    (14, 'Rubens Barrichello', 'Brazilian', 'Ferrari', 11, 68, 13, 658.0)\n",
    "]\n",
    "\n",
    "insert_sql = \"INSERT INTO drivers VALUES (?, ?, ?, ?, ?, ?, ?, ?);\"\n",
    "cursor.executemany(insert_sql, drivers_data)\n",
    "conn.commit()\n",
    "print(f\"{cursor.rowcount} records inserted into 'drivers'.\")\n",
    "\n",
    "# --- Verify Data Insertion ---\n",
    "print(\"\\n--- Initial Drivers Data ---\")\n",
    "df_initial = pd.read_sql_query(\"SELECT * FROM drivers;\", conn)\n",
    "print(df_initial)"
   ]
  },
  {
   "cell_type": "markdown",
   "metadata": {},
   "source": [
    "1) List drivers ordered by `team` alphabetically and then by `victories` in descending order."
   ]
  },
  {
   "cell_type": "markdown",
   "metadata": {},
   "source": [
    "2) List drivers who have won more races than the average number of victories across all drivers."
   ]
  },
  {
   "cell_type": "markdown",
   "metadata": {},
   "source": [
    "3) Find all drivers with more than 50 podiums OR who drive for the 'Ferrari' team."
   ]
  },
  {
   "cell_type": "markdown",
   "metadata": {},
   "source": [
    "4) Count the number of drivers for each `nationality`, but only include drivers who have more than 40 `podiums`. Order the result by count in descending order."
   ]
  },
  {
   "cell_type": "markdown",
   "metadata": {},
   "source": [
    "5) Calculate the average `points` for each `team`, rounded to two decimal places."
   ]
  },
  {
   "cell_type": "markdown",
   "metadata": {},
   "source": [
    "6) List drivers who are in the top 20% based on their `points`."
   ]
  },
  {
   "cell_type": "markdown",
   "metadata": {},
   "source": [
    "7) Calculate the total `victories`, total `podiums`, and average `points` for drivers with 'German' `nationality`."
   ]
  },
  {
   "cell_type": "markdown",
   "metadata": {},
   "source": [
    "8) List all drivers whose `driver_name` contains both the letter 'a' and the letter 'e' (case-insensitive)."
   ]
  },
  {
   "cell_type": "markdown",
   "metadata": {},
   "source": [
    "9) Retrieve the driver with the most `victories` within each `team`."
   ]
  },
  {
   "cell_type": "markdown",
   "metadata": {},
   "source": [
    "10) List drivers whose `points` are below the average `points` for their respective `team`."
   ]
  },
  {
   "cell_type": "markdown",
   "metadata": {},
   "source": [
    "11) Cleanup: Close the database connection"
   ]
  }
 ],
 "metadata": {
  "kernelspec": {
   "display_name": "base",
   "language": "python",
   "name": "python3"
  },
  "language_info": {
   "codemirror_mode": {
    "name": "ipython",
    "version": 3
   },
   "file_extension": ".py",
   "mimetype": "text/x-python",
   "name": "python",
   "nbconvert_exporter": "python",
   "pygments_lexer": "ipython3",
   "version": "3.12.2"
  }
 },
 "nbformat": 4,
 "nbformat_minor": 2
}
