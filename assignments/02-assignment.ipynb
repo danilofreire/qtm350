{
 "cells": [
  {
   "cell_type": "markdown",
   "metadata": {},
   "source": [
    "# QTM 350 - Data Science Computing\n",
    "\n",
    "## Assignment 02: Using the Command Line Interface\n",
    "### Due 17 September 2025\n",
    "\n",
    "In this assignment, you will practice using various command line interface (CLI) commands covered in the lecture. You will complete a series of tasks and submit your work either as a Jupyter Notebook or a PDF document with screenshots.\n",
    "\n",
    "### Instructions\n",
    "\n",
    "1. Open your terminal or command prompt.\n",
    "\n",
    "2. Navigate to a directory where you want to create a new folder for this assignment using the `cd` command.\n",
    "\n",
    "3. Create a new directory called \"cli_assignment\" using the `mkdir` command.\n",
    "\n",
    "4. Change into the \"cli_assignment\" directory using the `cd` command.\n",
    "\n",
    "5. Complete the following tasks:\n",
    "\n",
    "   a. Use the `ls` command to list the contents of the current directory. Take a screenshot of the output.\n",
    "\n",
    "   b. Create a new file called \"README.md\" using the `touch` command. Use the `ls` command again to verify that the file was created. Take a screenshot of the output.\n",
    "\n",
    "   c. Use the `echo` command to append the text \"# CLI Assignment\" to the \"README.md\" file. Use the `cat` command to display the contents of the file. Take a screenshot of the output.\n",
    "\n",
    "   d. Create a new directory called \"data\" inside the \"cli_assignment\" directory using the `mkdir` command. Use the `ls` command with the `-l` flag to display the contents of the \"cli_assignment\" directory in long format. Take a screenshot of the output.\n",
    "\n",
    "   e. Use the `man` command to display the manual page for the `ls` command. Scroll through the manual page and find the flag that allows you to display hidden files. Use the `ls` command with this flag to display all files, including hidden files, in the current directory. Take a screenshot of the output.\n",
    "\n",
    "### Submission\n",
    "\n",
    "If you are using Jupyter Notebooks:\n",
    "- Create a new Jupyter Notebook in the \"cli_assignment\" directory.\n",
    "- For each task, create a new code cell and execute the required commands.\n",
    "- After each task, create a new markdown cell and include the screenshot of the output.\n",
    "- Save the Jupyter Notebook and submit it.\n",
    "\n",
    "If you are using a PDF document:\n",
    "- Open a new document in your preferred word processor.\n",
    "- For each task, include the command(s) you used and the corresponding screenshot of the output.\n",
    "- Save the document as a PDF and submit it.\n",
    "\n",
    "This assignment will help you become more comfortable with navigating the file system, creating and manipulating files and directories, and using the `man` command to explore command options. Good luck!"
   ]
  },
  {
   "cell_type": "markdown",
   "metadata": {},
   "source": [
    "### How to run command line commands in a Jupyter Notebook \n",
    "\n",
    "There are several ways to run command line commands in Jupyter. You can use the following approaches:\n",
    "\n",
    "1. Using the `!` prefix:\n",
    "   - By prefixing a command with `!`, Jupyter Notebook will execute it as a shell command.\n",
    "   - For example, to list the files in the current directory, you can use: `!ls`\n",
    "   - This will execute the `ls` command and display the output in the notebook cell."
   ]
  },
  {
   "cell_type": "code",
   "execution_count": 1,
   "metadata": {},
   "outputs": [
    {
     "name": "stdout",
     "output_type": "stream",
     "text": [
      "01-assignment.ipynb LICENSE.qmd         assignments.html    \u001b[1m\u001b[36massignments_files\u001b[m\u001b[m\n",
      "02-assignment.ipynb README.md           assignments.qmd\n"
     ]
    }
   ],
   "source": [
    "!ls"
   ]
  },
  {
   "cell_type": "markdown",
   "metadata": {},
   "source": [
    "2. Using the %%bash magic command:\n",
    "\n",
    "    - If you have multiple command line commands to run, you can use the %%bash magic command at the beginning of a cell.\n",
    "\n",
    "    - This will execute the entire cell as a bash script. For example:"
   ]
  },
  {
   "cell_type": "code",
   "execution_count": 2,
   "metadata": {},
   "outputs": [
    {
     "name": "stdout",
     "output_type": "stream",
     "text": [
      "01-assignment.ipynb\n",
      "02-assignment.ipynb\n",
      "LICENSE.qmd\n",
      "README.md\n",
      "assignments.html\n",
      "assignments.qmd\n",
      "\u001b[1m\u001b[36massignments_files\u001b[m\u001b[m\n",
      "Hello, world!\n"
     ]
    }
   ],
   "source": [
    "%%bash\n",
    "ls\n",
    "echo \"Hello, world!\""
   ]
  },
  {
   "cell_type": "markdown",
   "metadata": {},
   "source": [
    "3. Using the os or subprocess modules in Python:\n",
    "\n",
    "    - You can also use Python's built-in os or subprocess modules to execute command line commands from within your Python code.\n",
    "    - For example, using the os module:"
   ]
  },
  {
   "cell_type": "code",
   "execution_count": 3,
   "metadata": {},
   "outputs": [
    {
     "name": "stdout",
     "output_type": "stream",
     "text": [
      "01-assignment.ipynb\n",
      "02-assignment.ipynb\n",
      "LICENSE.qmd\n",
      "README.md\n",
      "assignments.html\n",
      "assignments.qmd\n",
      "\u001b[1m\u001b[36massignments_files\u001b[m\u001b[m\n"
     ]
    },
    {
     "data": {
      "text/plain": [
       "0"
      ]
     },
     "execution_count": 3,
     "metadata": {},
     "output_type": "execute_result"
    }
   ],
   "source": [
    "import os\n",
    "os.system('ls')"
   ]
  }
 ],
 "metadata": {
  "kernelspec": {
   "display_name": "base",
   "language": "python",
   "name": "python3"
  },
  "language_info": {
   "codemirror_mode": {
    "name": "ipython",
    "version": 3
   },
   "file_extension": ".py",
   "mimetype": "text/x-python",
   "name": "python",
   "nbconvert_exporter": "python",
   "pygments_lexer": "ipython3",
   "version": "3.12.2"
  }
 },
 "nbformat": 4,
 "nbformat_minor": 2
}
